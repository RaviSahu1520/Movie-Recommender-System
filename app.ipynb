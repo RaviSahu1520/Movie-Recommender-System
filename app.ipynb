{
  "nbformat": 4,
  "nbformat_minor": 0,
  "metadata": {
    "colab": {
      "provenance": [],
      "authorship_tag": "ABX9TyMKE76/LhfYQeWpcEzJjEkp",
      "include_colab_link": true
    },
    "kernelspec": {
      "name": "python3",
      "display_name": "Python 3"
    },
    "language_info": {
      "name": "python"
    }
  },
  "cells": [
    {
      "cell_type": "markdown",
      "metadata": {
        "id": "view-in-github",
        "colab_type": "text"
      },
      "source": [
        "<a href=\"https://colab.research.google.com/github/RaviSahu1520/Movie-Recommender-System/blob/main/app.ipynb\" target=\"_parent\"><img src=\"https://colab.research.google.com/assets/colab-badge.svg\" alt=\"Open In Colab\"/></a>"
      ]
    },
    {
      "cell_type": "code",
      "execution_count": null,
      "metadata": {
        "id": "C2b2Ec5zEgC2"
      },
      "outputs": [],
      "source": [
        "import streamlit as st\n",
        "import pandas as pd\n",
        "import pickle\n",
        "from sklearn.feature_extraction.text import CountVectorizer\n",
        "from sklearn.metrics.pairwise import cosine_similarity\n",
        "from nltk.stem.porter import PorterStemmer\n",
        "\n",
        "# Load the data\n",
        "with open('movies.pkl', 'rb') as file:\n",
        "    data = pickle.load(file)\n",
        "\n",
        "# Initialize the CountVectorizer and the similarity matrix\n",
        "cv = CountVectorizer(max_features=5000, stop_words='english')\n",
        "vectors = cv.fit_transform(data['tags']).toarray()\n",
        "similarity = cosine_similarity(vectors)\n",
        "\n",
        "def recommend(movie_title):\n",
        "    if movie_title not in data['title'].values:\n",
        "        return []\n",
        "\n",
        "    movie_index = data[data['title'] == movie_title].index[0]\n",
        "    distances = similarity[movie_index]\n",
        "    movie_indices = sorted(list(enumerate(distances)), reverse=True, key=lambda x: x[1])[1:6]\n",
        "\n",
        "    recommendations = [data.iloc[i[0]].title for i in movie_indices]\n",
        "    return recommendations\n",
        "\n",
        "# Streamlit app\n",
        "st.title(\"Movie Recommender System\")\n",
        "\n",
        "movie_title = st.text_input(\"Enter a movie title:\")\n",
        "\n",
        "if movie_title:\n",
        "    recommendations = recommend(movie_title)\n",
        "    if recommendations:\n",
        "        st.write(f\"Recommendations for '{movie_title}':\")\n",
        "        for movie in recommendations:\n",
        "            st.write(movie)\n",
        "    else:\n",
        "        st.write(\"Movie not found in the dataset.\")\n"
      ]
    }
  ]
}